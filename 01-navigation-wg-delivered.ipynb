{
 "cells": [
  {
   "cell_type": "markdown",
   "id": "classical-gregory",
   "metadata": {},
   "source": [
    "## Project 1 - Navigation"
   ]
  },
  {
   "cell_type": "markdown",
   "id": "advance-arlington",
   "metadata": {},
   "source": [
    "### Steps to Reproduce this notebook"
   ]
  },
  {
   "cell_type": "markdown",
   "id": "processed-valuation",
   "metadata": {},
   "source": [
    "1. Import UnityEnvironment, model and Agent class\n",
    "2. Instantiate Unity Environment and select Brain\n",
    "3. Reset the environment and assign:\n",
    "   - action_size\n",
    "   - state\n",
    "   - state_size\n",
    "4. Load weights from previously trained agent\n",
    "5. Loop until game is finished"
   ]
  },
  {
   "cell_type": "markdown",
   "id": "quarterly-synthesis",
   "metadata": {},
   "source": [
    "#### 1. Import Dependencies"
   ]
  },
  {
   "cell_type": "code",
   "execution_count": null,
   "id": "efficient-salad",
   "metadata": {},
   "outputs": [],
   "source": [
    "from unityagents import UnityEnvironment\n",
    "from dqn_agent import Agent\n",
    "import numpy as np\n",
    "import torch"
   ]
  },
  {
   "cell_type": "markdown",
   "id": "vital-spiritual",
   "metadata": {},
   "source": [
    "#### 2. Environment characterization"
   ]
  },
  {
   "cell_type": "code",
   "execution_count": null,
   "id": "guilty-wealth",
   "metadata": {},
   "outputs": [],
   "source": [
    "# Load the environment\n",
    "env = UnityEnvironment(file_name=\"Banana.app\")"
   ]
  },
  {
   "cell_type": "code",
   "execution_count": null,
   "id": "respiratory-geneva",
   "metadata": {},
   "outputs": [],
   "source": [
    "brain_name = env.brain_names[0]\n",
    "brain = env.brains[brain_name]\n",
    "\n",
    "# reset the environment\n",
    "env_info = env.reset(train_mode=True)[brain_name]\n",
    "\n",
    "# number of actions\n",
    "action_size = brain.vector_action_space_size\n",
    "\n",
    "# examine the state space \n",
    "state = env_info.vector_observations[0]\n",
    "\n",
    "# state size\n",
    "state_size = len(state)"
   ]
  },
  {
   "cell_type": "markdown",
   "id": "scenic-association",
   "metadata": {},
   "source": [
    "#### 3. Run and play in the environment"
   ]
  },
  {
   "cell_type": "code",
   "execution_count": null,
   "id": "mounted-explosion",
   "metadata": {},
   "outputs": [],
   "source": [
    "SEED=0\n",
    "\n",
    "agent = Agent(state_size=state_size, action_size=action_size, seed=SEED)\n",
    "agent.qnetwork_local.load_state_dict(torch.load('checkpoint.pth'))\n",
    "\n",
    "env_info = env.reset(train_mode=False)[brain_name]\n",
    "\n",
    "state = env_info.vector_observations[0]\n",
    "score = 0\n",
    "\n"
   ]
  },
  {
   "cell_type": "code",
   "execution_count": null,
   "id": "nominated-destruction",
   "metadata": {},
   "outputs": [],
   "source": [
    "while True:\n",
    "    action = agent.act(state)\n",
    "    env_info = env.step(action)[brain_name]\n",
    "    next_state = env_info.vector_observations[0]\n",
    "    reward = env_info.rewards[0]\n",
    "    done = env_info.local_done[0]\n",
    "    score += reward\n",
    "    state = next_state\n",
    "    if done:\n",
    "        break\n",
    "print(\"Score: {}\".format(score))\n",
    "env.close()"
   ]
  }
 ],
 "metadata": {
  "kernelspec": {
   "display_name": "Python 3",
   "language": "python",
   "name": "python3"
  },
  "language_info": {
   "codemirror_mode": {
    "name": "ipython",
    "version": 3
   },
   "file_extension": ".py",
   "mimetype": "text/x-python",
   "name": "python",
   "nbconvert_exporter": "python",
   "pygments_lexer": "ipython3",
   "version": "3.6.13"
  }
 },
 "nbformat": 4,
 "nbformat_minor": 5
}
