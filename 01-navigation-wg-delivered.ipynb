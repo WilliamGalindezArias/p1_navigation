{
 "cells": [
  {
   "cell_type": "markdown",
   "id": "passing-south",
   "metadata": {},
   "source": [
    "## Project 1 - Navigation"
   ]
  },
  {
   "cell_type": "markdown",
   "id": "laden-condition",
   "metadata": {},
   "source": [
    "### Steps to Reproduce this notebook"
   ]
  },
  {
   "cell_type": "markdown",
   "id": "entitled-three",
   "metadata": {},
   "source": [
    "1. Import UnityEnvironment, model and Agent class\n",
    "2. Instantiate Unity Environment and select Brain\n",
    "3. Reset the environment and assign:\n",
    "   - action_size\n",
    "   - state\n",
    "   - state_size\n",
    "4. Load weights from previously trained agent\n",
    "5. Loop until game is finished"
   ]
  },
  {
   "cell_type": "markdown",
   "id": "transsexual-planner",
   "metadata": {},
   "source": [
    "#### 1. Import Dependencies"
   ]
  },
  {
   "cell_type": "code",
   "execution_count": 1,
   "id": "sorted-contributor",
   "metadata": {},
   "outputs": [],
   "source": [
    "from unityagents import UnityEnvironment\n",
    "from dqn_agent import Agent\n",
    "import numpy as np\n",
    "import torch"
   ]
  },
  {
   "cell_type": "markdown",
   "id": "collectible-closure",
   "metadata": {},
   "source": [
    "#### 2. Environment characterization"
   ]
  },
  {
   "cell_type": "code",
   "execution_count": 2,
   "id": "strategic-notebook",
   "metadata": {},
   "outputs": [
    {
     "name": "stderr",
     "output_type": "stream",
     "text": [
      "INFO:unityagents:\n",
      "'Academy' started successfully!\n",
      "Unity Academy name: Academy\n",
      "        Number of Brains: 1\n",
      "        Number of External Brains : 1\n",
      "        Lesson number : 0\n",
      "        Reset Parameters :\n",
      "\t\t\n",
      "Unity brain name: BananaBrain\n",
      "        Number of Visual Observations (per agent): 0\n",
      "        Vector Observation space type: continuous\n",
      "        Vector Observation space size (per agent): 37\n",
      "        Number of stacked Vector Observation: 1\n",
      "        Vector Action space type: discrete\n",
      "        Vector Action space size (per agent): 4\n",
      "        Vector Action descriptions: , , , \n"
     ]
    }
   ],
   "source": [
    "# Load the environment\n",
    "env = UnityEnvironment(file_name=\"Banana.app\")"
   ]
  },
  {
   "cell_type": "code",
   "execution_count": 3,
   "id": "emotional-colony",
   "metadata": {},
   "outputs": [],
   "source": [
    "brain_name = env.brain_names[0]\n",
    "brain = env.brains[brain_name]\n",
    "\n",
    "# reset the environment\n",
    "env_info = env.reset(train_mode=True)[brain_name]\n",
    "\n",
    "# number of actions\n",
    "action_size = brain.vector_action_space_size\n",
    "\n",
    "# examine the state space \n",
    "state = env_info.vector_observations[0]\n",
    "\n",
    "# state size\n",
    "state_size = len(state)"
   ]
  },
  {
   "cell_type": "markdown",
   "id": "congressional-running",
   "metadata": {},
   "source": [
    "#### 3. Run and play in the environment"
   ]
  },
  {
   "cell_type": "code",
   "execution_count": 4,
   "id": "forward-recorder",
   "metadata": {},
   "outputs": [],
   "source": [
    "SEED=0\n",
    "\n",
    "agent = Agent(state_size=state_size, action_size=action_size, seed=SEED)\n",
    "agent.qnetwork_local.load_state_dict(torch.load('checkpoint.pth'))\n",
    "\n",
    "env_info = env.reset(train_mode=False)[brain_name]\n",
    "\n",
    "state = env_info.vector_observations[0]\n",
    "score = 0\n",
    "\n"
   ]
  },
  {
   "cell_type": "code",
   "execution_count": 5,
   "id": "mature-platform",
   "metadata": {},
   "outputs": [
    {
     "name": "stdout",
     "output_type": "stream",
     "text": [
      "Score: 15.0\n"
     ]
    }
   ],
   "source": [
    "while True:\n",
    "    action = agent.act(state)\n",
    "    env_info = env.step(action)[brain_name]\n",
    "    next_state = env_info.vector_observations[0]\n",
    "    reward = env_info.rewards[0]\n",
    "    done = env_info.local_done[0]\n",
    "    score += reward\n",
    "    state = next_state\n",
    "    if done:\n",
    "        break\n",
    "print(\"Score: {}\".format(score))\n",
    "env.close()"
   ]
  },
  {
   "cell_type": "code",
   "execution_count": null,
   "id": "intense-solomon",
   "metadata": {},
   "outputs": [],
   "source": []
  }
 ],
 "metadata": {
  "kernelspec": {
   "display_name": "Python 3",
   "language": "python",
   "name": "python3"
  },
  "language_info": {
   "codemirror_mode": {
    "name": "ipython",
    "version": 3
   },
   "file_extension": ".py",
   "mimetype": "text/x-python",
   "name": "python",
   "nbconvert_exporter": "python",
   "pygments_lexer": "ipython3",
   "version": "3.6.13"
  }
 },
 "nbformat": 4,
 "nbformat_minor": 5
}
